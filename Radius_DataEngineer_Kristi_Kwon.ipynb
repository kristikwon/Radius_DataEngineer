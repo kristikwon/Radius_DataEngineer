{
 "cells": [
  {
   "cell_type": "code",
   "execution_count": 1,
   "metadata": {
    "collapsed": true
   },
   "outputs": [],
   "source": [
    "import csv\n",
    "import pandas as pd\n",
    "from collections import defaultdict, Counter\n",
    "import re"
   ]
  },
  {
   "cell_type": "markdown",
   "metadata": {},
   "source": [
    "- row with wrong number of fields ++\n",
    "- blank lines ++\n",
    "- new line characters ++\n",
    "- unclosed quotes ++\n",
    "- invalid incoding (odd characters that cause encoding errors) ++\n",
    "- duplicated column names ++\n",
    "- duplicated IDs ++"
   ]
  },
  {
   "cell_type": "code",
   "execution_count": 2,
   "metadata": {
    "collapsed": false
   },
   "outputs": [
    {
     "name": "stdout",
     "output_type": "stream",
     "text": [
      "Using encoding utf-8\n"
     ]
    }
   ],
   "source": [
    "# Check encoding\n",
    "encoding_list = ['utf-8','latin-1','cp1252','utf32']\n",
    "\n",
    "for encode in encoding_list:\n",
    "    try:\n",
    "        f = open('example.csv','r', encoding=encode)\n",
    "        data = f.readlines()\n",
    "        f.close()\n",
    "        break\n",
    "    except UnicodeDecodeError:\n",
    "        print('Cannot decode with', encode)\n",
    "\n",
    "if data:\n",
    "    print('Using encoding', encode)\n",
    "else:\n",
    "    print('None of the encodings worked')\n",
    "    "
   ]
  },
  {
   "cell_type": "code",
   "execution_count": 3,
   "metadata": {
    "collapsed": true
   },
   "outputs": [],
   "source": [
    "# May add other forms of state abbreviations (i.e. California, ca)\n",
    "states = set([\"AL\", \"AK\", \"AZ\", \"AR\", \"CA\", \"CO\", \"CT\", \"DC\", \"DE\", \"FL\", \"GA\", \n",
    "              \"HI\", \"ID\", \"IL\", \"IN\", \"IA\", \"KS\", \"KY\", \"LA\", \"ME\", \"MD\", \n",
    "              \"MA\", \"MI\", \"MN\", \"MS\", \"MO\", \"MT\", \"NE\", \"NV\", \"NH\", \"NJ\", \n",
    "              \"NM\", \"NY\", \"NC\", \"ND\", \"OH\", \"OK\", \"OR\", \"PA\", \"RI\", \"SC\", \n",
    "              \"SD\", \"TN\", \"TX\", \"UT\", \"VT\", \"VA\", \"WA\", \"WV\", \"WI\", \"WY\"])"
   ]
  },
  {
   "cell_type": "code",
   "execution_count": 4,
   "metadata": {
    "collapsed": true
   },
   "outputs": [],
   "source": [
    "def new_search_list(row, headers):\n",
    "    # initialize\n",
    "    new_row = ['']*(len(headers)+1)\n",
    "    \n",
    "    # search for state, zip-code, website. These are features with patterns\n",
    "    state = list(set(row[1:]).intersection(states))\n",
    "    zipcode = [x for x in row[1:] if re.match('^\\d{5}(?:[-]\\d{4})?$',x)!=None]\n",
    "    website = [w for w in row[1:] if 'www.' in w]\n",
    "    \n",
    "    search_list = [state, zipcode, website]\n",
    "    search_new = []\n",
    "    \n",
    "    for search in search_list:\n",
    "        if search:\n",
    "            search_new.append(search[0])\n",
    "        else:\n",
    "            search_new.append('')\n",
    "    \n",
    "    # redefine row ()\n",
    "    new_row[:3] = row\n",
    "    new_row = new_row[:3] + search_new\n",
    "    return new_row"
   ]
  },
  {
   "cell_type": "code",
   "execution_count": 5,
   "metadata": {
    "collapsed": false
   },
   "outputs": [],
   "source": [
    "reader = csv.reader(data, delimiter=\",\", dialect=csv.excel_tab)\n",
    "id_dict = {}\n",
    "dup_id = defaultdict(int)\n",
    "diff_len_rows = []\n",
    "\n",
    "# Check for duplicate column names\n",
    "headers = next(reader, None)\n",
    "if headers:\n",
    "    header_counts = Counter(headers)  \n",
    "    for s, num in header_counts.items():\n",
    "        if num>1:\n",
    "            for suffix in range(1,num+1):\n",
    "                headers[headers.index(s)] = s + str(suffix)\n",
    "headers = headers[1:] \n",
    "\n",
    "for row in reader:\n",
    "    # Check new lines and unclosed quotes\n",
    "    row = [x.replace('\"s','\\'s').replace('\"','').replace('\\n',' ') for x in row]\n",
    "    \n",
    "    # Skip empty rows\n",
    "    if len(row)>0:\n",
    "        \n",
    "        # Handling rows with wrong number of fields (greater or less than columns)\n",
    "        if len(row) != len(headers)+1:\n",
    "            # We still might want to check manually\n",
    "            diff_len_rows.append(row)\n",
    "            # Attempt to fix it\n",
    "            row = new_search_list(row, headers)\n",
    "           \n",
    "        # Check duplicate IDs\n",
    "        if len(row)==len(headers)+1:\n",
    "            # if ID doesn't exist, or ID exists but values are different\n",
    "            if (row[0] not in id_dict) or ((row[0] in id_dict) and id_dict[row[0]] == {key: value for key, value in zip(headers, row[1:])}):\n",
    "                # add to dictionary\n",
    "                id_dict[row[0]] = {key: value for key, value in zip(headers, row[1:])}\n",
    "            else:\n",
    "                # add to dictionary with encounter suffix (i.e. 34_1, 34_2)\n",
    "                dup_id[row[0]]+=1\n",
    "                id_dict[row[0] + '_' + str(dup_id[row[0]])] = {key: value for key, value in zip(headers, row[1:])}   \n"
   ]
  },
  {
   "cell_type": "code",
   "execution_count": null,
   "metadata": {
    "collapsed": true
   },
   "outputs": [],
   "source": []
  },
  {
   "cell_type": "code",
   "execution_count": null,
   "metadata": {
    "collapsed": true
   },
   "outputs": [],
   "source": []
  }
 ],
 "metadata": {
  "anaconda-cloud": {},
  "kernelspec": {
   "display_name": "Python [conda env:py35]",
   "language": "python",
   "name": "conda-env-py35-py"
  },
  "language_info": {
   "codemirror_mode": {
    "name": "ipython",
    "version": 3
   },
   "file_extension": ".py",
   "mimetype": "text/x-python",
   "name": "python",
   "nbconvert_exporter": "python",
   "pygments_lexer": "ipython3",
   "version": "3.5.2"
  }
 },
 "nbformat": 4,
 "nbformat_minor": 1
}
